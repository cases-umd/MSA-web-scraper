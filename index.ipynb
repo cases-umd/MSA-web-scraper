{
 "cells": [
  {
   "attachments": {},
   "cell_type": "markdown",
   "metadata": {},
   "source": [
    "# Strategies for Scraping Data from Websites: Reverse Engineering and Browser Automation\n",
    "\n",
    "This module explores two approaches to automated web scraping of historical data from the Maryland State Archives' (MSA) Legacy of Slavery database (LOS) pages.\n",
    "\n",
    "Note: The Legacy of Slavery web design has been slightly updated since this notebook was written. Some of the code no longer functions as key HTML elements have changed names. The techniques remain broadly applicable to web scraping.\n",
    "\n",
    "* Contributors: Gregory Jansen\n",
    "* Source Available: https://github.com/cases-umd/MSA-web-scrape.git\n",
    "* License: [Creative Commons Attribution-NonCommercial-ShareAlike 4.0 International License](http://creativecommons.org/licenses/by-nc-sa/4.0/) \n",
    "\n",
    "![Creative Commons Logo](https://mirrors.creativecommons.org/presskit/buttons/88x31/png/by-nc-sa.png)\n",
    "* Revisions:\n",
    "    * 7/25/2023 - Updated code samples and script file to use the latest Selenium API.\n",
    "* More Information: [Legacy of Slavery in Maryland](http://slavery2.msa.maryland.gov/pages/Search.aspx)"
   ]
  },
  {
   "cell_type": "markdown",
   "metadata": {},
   "source": [
    "![Maryland State Archives' Legacy of Slavery website banner](msabanner.png)\n",
    "\n",
    "The MSA historical data is not available in a downloadable file for researchers, so if we want to analyze it as a dataset we need to first collect the data through their web interface. We have identified two practical approaches to scraping the site data in our LOS projects. One approach is based on deeply understanding the structure of the ASP pages and their javascript-based server communication. We call this approach \"reverse engineering\". The other approach is based on interacting with the site as if there is a user performing step-by-step instructions, which we call \"browser automation\". Both approaches can be used with other websites that do not provide their data more directly. Reverse engineering is the more complex and involved strategy, but may deliver some benefits in terms of efficiency or performance, depending upon the website. We adopted this approach first and used it to collect our first MSA dataset of runaway slave ads.\n",
    "\n",
    "![To Hire, domestic traffic ad](tohire.png)\n",
    "\n",
    "The second time we acquired a dataset, the \"Domestic Traffic Ads\" like the one above, we tried to use the same scraping code, but found that the code was so closely tied to the engineering of the site that it breaks if the site changes significantly. The code no longer worked. Instead of revising that code and delving into the inner workings of the MSA website again, we shifted to browser emulation. With browser emulation code you do have to understand something about the way a site is built, but that understanding is limited to the HTML elements used in the rendered page. You don't have to understand inner workings, only the \"presentation layer\" of the information that you care about.\n",
    "\n",
    "The older scraping code based on reverse engineering is still provided for reference. For archivists and digital specialists of all kinds, we recommend a browser emulation approach as a first, best step to acquire new website data. Web programming is a complex subject and reverse engineering websites can be time consuming and difficult.\n",
    "\n",
    "## Notebooks\n",
    "\n",
    "* [Web Scraping the MSA through Browser Automation](browser_automation.ipynb)\n",
    "* [Web Scraping the MSA through Reverse Engineering](reverse_engineering.ipynb)"
   ]
  },
  {
   "cell_type": "code",
   "execution_count": null,
   "metadata": {},
   "outputs": [],
   "source": []
  }
 ],
 "metadata": {
  "kernelspec": {
   "display_name": "Python 3",
   "language": "python",
   "name": "python3"
  },
  "language_info": {
   "codemirror_mode": {
    "name": "ipython",
    "version": 3
   },
   "file_extension": ".py",
   "mimetype": "text/x-python",
   "name": "python",
   "nbconvert_exporter": "python",
   "pygments_lexer": "ipython3",
   "version": "3.8.5"
  }
 },
 "nbformat": 4,
 "nbformat_minor": 4
}
